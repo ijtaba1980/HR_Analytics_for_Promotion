{
 "cells": [
  {
   "cell_type": "code",
   "execution_count": 2,
   "id": "c8fa307c",
   "metadata": {},
   "outputs": [],
   "source": [
    "# Scientific and Data Manipulation Libraries \n",
    "\n",
    "import pandas as pd\n",
    "import numpy as np\n",
    "\n",
    "import pandas_profiling\n",
    "from pandas_profiling import ProfileReport\n",
    "\n",
    "\n",
    "from sklearn.compose import make_column_selector as selector\n",
    "from sklearn.preprocessing import OneHotEncoder,LabelEncoder\n",
    "from sklearn.pipeline import Pipeline\n",
    "from sklearn.compose import ColumnTransformer\n",
    "from sklearn.model_selection import train_test_split\n",
    "\n",
    "from sklearn.metrics import classification_report\n",
    "from sklearn.preprocessing import StandardScaler, MinMaxScaler, RobustScaler, MaxAbsScaler\n",
    "from sklearn.ensemble import VotingClassifier\n",
    "from sklearn.metrics import f1_score\n",
    "\n",
    "# Data Preprocessing, Machine Learning and Metrics Libraries \n",
    "from sklearn.tree import DecisionTreeClassifier\n",
    "from sklearn.ensemble import RandomForestClassifier\n",
    "from sklearn.ensemble import GradientBoostingClassifier\n",
    "from sklearn.svm import SVC\n",
    "from sklearn.neural_network import MLPClassifier\n",
    "from sklearn.svm import SVR\n",
    "from sklearn.neighbors import KNeighborsClassifier\n",
    "from sklearn.linear_model import LogisticRegression\n",
    "\n",
    "\n",
    "\n",
    "\n",
    "#from sklearn.pipeline import make_pipeline\n",
    "\n",
    "from sklearn.model_selection import KFold\n",
    "from sklearn.model_selection import cross_val_score\n",
    "from sklearn.model_selection import RandomizedSearchCV\n",
    "from sklearn.model_selection import GridSearchCV\n",
    "\n",
    "# Data Visualization Libraries \n",
    "import matplotlib.pyplot as plt\n",
    "import seaborn as sns\n",
    "#import plotly.io as pio\n",
    "#import plotly.graph_objects as go\n",
    "#import plotly.express as px\n",
    "%matplotlib inline\n",
    "\n",
    "# Warning Libraries \n",
    "import warnings\n",
    "warnings.filterwarnings(\"ignore\")\n"
   ]
  },
  {
   "cell_type": "code",
   "execution_count": 3,
   "id": "794712a3",
   "metadata": {},
   "outputs": [],
   "source": [
    "#importing data\n",
    "train=pd.read_csv('D:\\\\Hackathon\\\\HR Analytics\\\\train.csv')\n",
    "test=pd.read_csv('D:\\\\Hackathon\\\\HR Analytics\\\\test.csv')"
   ]
  },
  {
   "cell_type": "code",
   "execution_count": 4,
   "id": "010d7ae6",
   "metadata": {},
   "outputs": [
    {
     "name": "stdout",
     "output_type": "stream",
     "text": [
      "Train Shape: (54808, 14)\n",
      "Test Shape: (23490, 13)\n"
     ]
    }
   ],
   "source": [
    "#Checking shape of datasets\n",
    "print('Train Shape:',train.shape)\n",
    "print('Test Shape:',test.shape)"
   ]
  },
  {
   "cell_type": "code",
   "execution_count": 5,
   "id": "fb250713",
   "metadata": {},
   "outputs": [
    {
     "name": "stdout",
     "output_type": "stream",
     "text": [
      "<class 'pandas.core.frame.DataFrame'>\n",
      "RangeIndex: 54808 entries, 0 to 54807\n",
      "Data columns (total 14 columns):\n",
      " #   Column                Non-Null Count  Dtype  \n",
      "---  ------                --------------  -----  \n",
      " 0   employee_id           54808 non-null  int64  \n",
      " 1   department            54808 non-null  object \n",
      " 2   region                54808 non-null  object \n",
      " 3   education             52399 non-null  object \n",
      " 4   gender                54808 non-null  object \n",
      " 5   recruitment_channel   54808 non-null  object \n",
      " 6   no_of_trainings       54808 non-null  int64  \n",
      " 7   age                   54808 non-null  int64  \n",
      " 8   previous_year_rating  50684 non-null  float64\n",
      " 9   length_of_service     54808 non-null  int64  \n",
      " 10  KPIs_met >80%         54808 non-null  int64  \n",
      " 11  awards_won?           54808 non-null  int64  \n",
      " 12  avg_training_score    54808 non-null  int64  \n",
      " 13  is_promoted           54808 non-null  int64  \n",
      "dtypes: float64(1), int64(8), object(5)\n",
      "memory usage: 5.9+ MB\n",
      "None\n",
      "<class 'pandas.core.frame.DataFrame'>\n",
      "RangeIndex: 23490 entries, 0 to 23489\n",
      "Data columns (total 13 columns):\n",
      " #   Column                Non-Null Count  Dtype  \n",
      "---  ------                --------------  -----  \n",
      " 0   employee_id           23490 non-null  int64  \n",
      " 1   department            23490 non-null  object \n",
      " 2   region                23490 non-null  object \n",
      " 3   education             22456 non-null  object \n",
      " 4   gender                23490 non-null  object \n",
      " 5   recruitment_channel   23490 non-null  object \n",
      " 6   no_of_trainings       23490 non-null  int64  \n",
      " 7   age                   23490 non-null  int64  \n",
      " 8   previous_year_rating  21678 non-null  float64\n",
      " 9   length_of_service     23490 non-null  int64  \n",
      " 10  KPIs_met >80%         23490 non-null  int64  \n",
      " 11  awards_won?           23490 non-null  int64  \n",
      " 12  avg_training_score    23490 non-null  int64  \n",
      "dtypes: float64(1), int64(7), object(5)\n",
      "memory usage: 2.3+ MB\n",
      "None\n"
     ]
    }
   ],
   "source": [
    "#Checking different columns and its datatype along with non-null values count\n",
    "print(train.info())\n",
    "print(test.info())"
   ]
  },
  {
   "cell_type": "code",
   "execution_count": 6,
   "id": "bd1984ab",
   "metadata": {},
   "outputs": [],
   "source": [
    "#adding new column data_type in both datasets and filling is_promoted in test dataset with na\n",
    "train['data_type']='train'\n",
    "test['data_type']='test'\n",
    "test['is_promoted']='na'"
   ]
  },
  {
   "cell_type": "code",
   "execution_count": 7,
   "id": "eaa9ced9",
   "metadata": {},
   "outputs": [],
   "source": [
    "#merging both dataset to a single dataset\n",
    "id_all=pd.concat([train,test],axis=0,ignore_index=True)"
   ]
  },
  {
   "cell_type": "code",
   "execution_count": 8,
   "id": "68f091d1",
   "metadata": {},
   "outputs": [
    {
     "name": "stdout",
     "output_type": "stream",
     "text": [
      "<class 'pandas.core.frame.DataFrame'>\n",
      "RangeIndex: 78298 entries, 0 to 78297\n",
      "Data columns (total 15 columns):\n",
      " #   Column                Non-Null Count  Dtype  \n",
      "---  ------                --------------  -----  \n",
      " 0   employee_id           78298 non-null  int64  \n",
      " 1   department            78298 non-null  object \n",
      " 2   region                78298 non-null  object \n",
      " 3   education             74855 non-null  object \n",
      " 4   gender                78298 non-null  object \n",
      " 5   recruitment_channel   78298 non-null  object \n",
      " 6   no_of_trainings       78298 non-null  int64  \n",
      " 7   age                   78298 non-null  int64  \n",
      " 8   previous_year_rating  72362 non-null  float64\n",
      " 9   length_of_service     78298 non-null  int64  \n",
      " 10  KPIs_met >80%         78298 non-null  int64  \n",
      " 11  awards_won?           78298 non-null  int64  \n",
      " 12  avg_training_score    78298 non-null  int64  \n",
      " 13  is_promoted           78298 non-null  object \n",
      " 14  data_type             78298 non-null  object \n",
      "dtypes: float64(1), int64(7), object(7)\n",
      "memory usage: 9.0+ MB\n"
     ]
    }
   ],
   "source": [
    "id_all.info()"
   ]
  },
  {
   "cell_type": "code",
   "execution_count": 9,
   "id": "18e3e5d4",
   "metadata": {},
   "outputs": [
    {
     "data": {
      "text/plain": [
       "employee_id                0\n",
       "department                 0\n",
       "region                     0\n",
       "education               3443\n",
       "gender                     0\n",
       "recruitment_channel        0\n",
       "no_of_trainings            0\n",
       "age                        0\n",
       "previous_year_rating    5936\n",
       "length_of_service          0\n",
       "KPIs_met >80%              0\n",
       "awards_won?                0\n",
       "avg_training_score         0\n",
       "is_promoted                0\n",
       "data_type                  0\n",
       "dtype: int64"
      ]
     },
     "execution_count": 9,
     "metadata": {},
     "output_type": "execute_result"
    }
   ],
   "source": [
    "#Checking Null values in all columns\n",
    "id_all.isnull().sum()"
   ]
  },
  {
   "cell_type": "code",
   "execution_count": 10,
   "id": "d64d09cf",
   "metadata": {},
   "outputs": [],
   "source": [
    "#filling null values with mean and median of the column depending on the columns datatype\n",
    "id_all['previous_year_rating']=id_all.loc[id_all['data_type']=='train','previous_year_rating'].mean()\n",
    "id_all['education']=id_all.loc[id_all['data_type']=='train','previous_year_rating'].median()"
   ]
  },
  {
   "cell_type": "code",
   "execution_count": 11,
   "id": "c1104f07",
   "metadata": {},
   "outputs": [],
   "source": [
    "# imputing missing values\n",
    "#for col in id_all.columns:\n",
    "#     if id_all[col].isnull().sum()>0:\n",
    "#            id_all.loc[id_all[col].isnull(),col]=id_all.loc[id_all['data_type']=='train',col].mean()"
   ]
  },
  {
   "cell_type": "code",
   "execution_count": 12,
   "id": "be213eb1",
   "metadata": {},
   "outputs": [
    {
     "data": {
      "text/plain": [
       "['department', 'region', 'gender', 'recruitment_channel']"
      ]
     },
     "execution_count": 12,
     "metadata": {},
     "output_type": "execute_result"
    }
   ],
   "source": [
    "#selecting only object datatype columns with excluding 2 columns\n",
    "cat_col=id_all.select_dtypes(include=['object']).columns\n",
    "cat_vars=[_ for _ in cat_col if _ not in ['data_type','is_promoted']]\n",
    "cat_vars"
   ]
  },
  {
   "cell_type": "code",
   "execution_count": 13,
   "id": "75fa8253",
   "metadata": {},
   "outputs": [
    {
     "data": {
      "text/plain": [
       "['education',\n",
       " 'no_of_trainings',\n",
       " 'age',\n",
       " 'previous_year_rating',\n",
       " 'length_of_service',\n",
       " 'KPIs_met >80%',\n",
       " 'awards_won?',\n",
       " 'avg_training_score']"
      ]
     },
     "execution_count": 13,
     "metadata": {},
     "output_type": "execute_result"
    }
   ],
   "source": [
    "#selecting only numeric datatype columns with excluding 2 columns\n",
    "num_col=id_all.select_dtypes(include=['int64','float64']).columns\n",
    "num_vars=[_ for _ in num_col if _ not in ['employee_id','is_promoted']]\n",
    "num_vars"
   ]
  },
  {
   "cell_type": "code",
   "execution_count": 14,
   "id": "091fc49d",
   "metadata": {},
   "outputs": [
    {
     "name": "stdout",
     "output_type": "stream",
     "text": [
      "<class 'pandas.core.frame.DataFrame'>\n",
      "RangeIndex: 78298 entries, 0 to 78297\n",
      "Data columns (total 22 columns):\n",
      " #   Column                        Non-Null Count  Dtype  \n",
      "---  ------                        --------------  -----  \n",
      " 0   employee_id                   78298 non-null  int64  \n",
      " 1   region                        78298 non-null  object \n",
      " 2   education                     78298 non-null  float64\n",
      " 3   gender                        78298 non-null  object \n",
      " 4   recruitment_channel           78298 non-null  object \n",
      " 5   no_of_trainings               78298 non-null  int64  \n",
      " 6   age                           78298 non-null  int64  \n",
      " 7   previous_year_rating          78298 non-null  float64\n",
      " 8   length_of_service             78298 non-null  int64  \n",
      " 9   KPIs_met >80%                 78298 non-null  int64  \n",
      " 10  awards_won?                   78298 non-null  int64  \n",
      " 11  avg_training_score            78298 non-null  int64  \n",
      " 12  is_promoted                   78298 non-null  object \n",
      " 13  data_type                     78298 non-null  object \n",
      " 14  department_Finance            78298 non-null  int32  \n",
      " 15  department_HR                 78298 non-null  int32  \n",
      " 16  department_Legal              78298 non-null  int32  \n",
      " 17  department_Operations         78298 non-null  int32  \n",
      " 18  department_Procurement        78298 non-null  int32  \n",
      " 19  department_R&D                78298 non-null  int32  \n",
      " 20  department_Sales & Marketing  78298 non-null  int32  \n",
      " 21  department_Technology         78298 non-null  int32  \n",
      "dtypes: float64(2), int32(8), int64(7), object(5)\n",
      "memory usage: 10.8+ MB\n",
      "<class 'pandas.core.frame.DataFrame'>\n",
      "RangeIndex: 78298 entries, 0 to 78297\n",
      "Data columns (total 54 columns):\n",
      " #   Column                        Non-Null Count  Dtype  \n",
      "---  ------                        --------------  -----  \n",
      " 0   employee_id                   78298 non-null  int64  \n",
      " 1   education                     78298 non-null  float64\n",
      " 2   gender                        78298 non-null  object \n",
      " 3   recruitment_channel           78298 non-null  object \n",
      " 4   no_of_trainings               78298 non-null  int64  \n",
      " 5   age                           78298 non-null  int64  \n",
      " 6   previous_year_rating          78298 non-null  float64\n",
      " 7   length_of_service             78298 non-null  int64  \n",
      " 8   KPIs_met >80%                 78298 non-null  int64  \n",
      " 9   awards_won?                   78298 non-null  int64  \n",
      " 10  avg_training_score            78298 non-null  int64  \n",
      " 11  is_promoted                   78298 non-null  object \n",
      " 12  data_type                     78298 non-null  object \n",
      " 13  department_Finance            78298 non-null  int32  \n",
      " 14  department_HR                 78298 non-null  int32  \n",
      " 15  department_Legal              78298 non-null  int32  \n",
      " 16  department_Operations         78298 non-null  int32  \n",
      " 17  department_Procurement        78298 non-null  int32  \n",
      " 18  department_R&D                78298 non-null  int32  \n",
      " 19  department_Sales & Marketing  78298 non-null  int32  \n",
      " 20  department_Technology         78298 non-null  int32  \n",
      " 21  region_region_10              78298 non-null  int32  \n",
      " 22  region_region_11              78298 non-null  int32  \n",
      " 23  region_region_12              78298 non-null  int32  \n",
      " 24  region_region_13              78298 non-null  int32  \n",
      " 25  region_region_14              78298 non-null  int32  \n",
      " 26  region_region_15              78298 non-null  int32  \n",
      " 27  region_region_16              78298 non-null  int32  \n",
      " 28  region_region_17              78298 non-null  int32  \n",
      " 29  region_region_18              78298 non-null  int32  \n",
      " 30  region_region_19              78298 non-null  int32  \n",
      " 31  region_region_2               78298 non-null  int32  \n",
      " 32  region_region_20              78298 non-null  int32  \n",
      " 33  region_region_21              78298 non-null  int32  \n",
      " 34  region_region_22              78298 non-null  int32  \n",
      " 35  region_region_23              78298 non-null  int32  \n",
      " 36  region_region_24              78298 non-null  int32  \n",
      " 37  region_region_25              78298 non-null  int32  \n",
      " 38  region_region_26              78298 non-null  int32  \n",
      " 39  region_region_27              78298 non-null  int32  \n",
      " 40  region_region_28              78298 non-null  int32  \n",
      " 41  region_region_29              78298 non-null  int32  \n",
      " 42  region_region_3               78298 non-null  int32  \n",
      " 43  region_region_30              78298 non-null  int32  \n",
      " 44  region_region_31              78298 non-null  int32  \n",
      " 45  region_region_32              78298 non-null  int32  \n",
      " 46  region_region_33              78298 non-null  int32  \n",
      " 47  region_region_34              78298 non-null  int32  \n",
      " 48  region_region_4               78298 non-null  int32  \n",
      " 49  region_region_5               78298 non-null  int32  \n",
      " 50  region_region_6               78298 non-null  int32  \n",
      " 51  region_region_7               78298 non-null  int32  \n",
      " 52  region_region_8               78298 non-null  int32  \n",
      " 53  region_region_9               78298 non-null  int32  \n",
      "dtypes: float64(2), int32(41), int64(7), object(4)\n",
      "memory usage: 20.0+ MB\n",
      "<class 'pandas.core.frame.DataFrame'>\n",
      "RangeIndex: 78298 entries, 0 to 78297\n",
      "Data columns (total 54 columns):\n",
      " #   Column                        Non-Null Count  Dtype  \n",
      "---  ------                        --------------  -----  \n",
      " 0   employee_id                   78298 non-null  int64  \n",
      " 1   education                     78298 non-null  float64\n",
      " 2   recruitment_channel           78298 non-null  object \n",
      " 3   no_of_trainings               78298 non-null  int64  \n",
      " 4   age                           78298 non-null  int64  \n",
      " 5   previous_year_rating          78298 non-null  float64\n",
      " 6   length_of_service             78298 non-null  int64  \n",
      " 7   KPIs_met >80%                 78298 non-null  int64  \n",
      " 8   awards_won?                   78298 non-null  int64  \n",
      " 9   avg_training_score            78298 non-null  int64  \n",
      " 10  is_promoted                   78298 non-null  object \n",
      " 11  data_type                     78298 non-null  object \n",
      " 12  department_Finance            78298 non-null  int32  \n",
      " 13  department_HR                 78298 non-null  int32  \n",
      " 14  department_Legal              78298 non-null  int32  \n",
      " 15  department_Operations         78298 non-null  int32  \n",
      " 16  department_Procurement        78298 non-null  int32  \n",
      " 17  department_R&D                78298 non-null  int32  \n",
      " 18  department_Sales & Marketing  78298 non-null  int32  \n",
      " 19  department_Technology         78298 non-null  int32  \n",
      " 20  region_region_10              78298 non-null  int32  \n",
      " 21  region_region_11              78298 non-null  int32  \n",
      " 22  region_region_12              78298 non-null  int32  \n",
      " 23  region_region_13              78298 non-null  int32  \n",
      " 24  region_region_14              78298 non-null  int32  \n",
      " 25  region_region_15              78298 non-null  int32  \n",
      " 26  region_region_16              78298 non-null  int32  \n",
      " 27  region_region_17              78298 non-null  int32  \n",
      " 28  region_region_18              78298 non-null  int32  \n",
      " 29  region_region_19              78298 non-null  int32  \n",
      " 30  region_region_2               78298 non-null  int32  \n",
      " 31  region_region_20              78298 non-null  int32  \n",
      " 32  region_region_21              78298 non-null  int32  \n",
      " 33  region_region_22              78298 non-null  int32  \n",
      " 34  region_region_23              78298 non-null  int32  \n",
      " 35  region_region_24              78298 non-null  int32  \n",
      " 36  region_region_25              78298 non-null  int32  \n",
      " 37  region_region_26              78298 non-null  int32  \n",
      " 38  region_region_27              78298 non-null  int32  \n",
      " 39  region_region_28              78298 non-null  int32  \n",
      " 40  region_region_29              78298 non-null  int32  \n",
      " 41  region_region_3               78298 non-null  int32  \n",
      " 42  region_region_30              78298 non-null  int32  \n",
      " 43  region_region_31              78298 non-null  int32  \n",
      " 44  region_region_32              78298 non-null  int32  \n",
      " 45  region_region_33              78298 non-null  int32  \n",
      " 46  region_region_34              78298 non-null  int32  \n",
      " 47  region_region_4               78298 non-null  int32  \n",
      " 48  region_region_5               78298 non-null  int32  \n",
      " 49  region_region_6               78298 non-null  int32  \n",
      " 50  region_region_7               78298 non-null  int32  \n",
      " 51  region_region_8               78298 non-null  int32  \n",
      " 52  region_region_9               78298 non-null  int32  \n",
      " 53  gender_m                      78298 non-null  int32  \n",
      "dtypes: float64(2), int32(42), int64(7), object(3)\n",
      "memory usage: 19.7+ MB\n",
      "<class 'pandas.core.frame.DataFrame'>\n",
      "RangeIndex: 78298 entries, 0 to 78297\n",
      "Data columns (total 55 columns):\n",
      " #   Column                        Non-Null Count  Dtype  \n",
      "---  ------                        --------------  -----  \n",
      " 0   employee_id                   78298 non-null  int64  \n",
      " 1   education                     78298 non-null  float64\n",
      " 2   no_of_trainings               78298 non-null  int64  \n",
      " 3   age                           78298 non-null  int64  \n",
      " 4   previous_year_rating          78298 non-null  float64\n",
      " 5   length_of_service             78298 non-null  int64  \n",
      " 6   KPIs_met >80%                 78298 non-null  int64  \n",
      " 7   awards_won?                   78298 non-null  int64  \n",
      " 8   avg_training_score            78298 non-null  int64  \n",
      " 9   is_promoted                   78298 non-null  object \n",
      " 10  data_type                     78298 non-null  object \n",
      " 11  department_Finance            78298 non-null  int32  \n",
      " 12  department_HR                 78298 non-null  int32  \n",
      " 13  department_Legal              78298 non-null  int32  \n",
      " 14  department_Operations         78298 non-null  int32  \n",
      " 15  department_Procurement        78298 non-null  int32  \n",
      " 16  department_R&D                78298 non-null  int32  \n",
      " 17  department_Sales & Marketing  78298 non-null  int32  \n",
      " 18  department_Technology         78298 non-null  int32  \n",
      " 19  region_region_10              78298 non-null  int32  \n",
      " 20  region_region_11              78298 non-null  int32  \n",
      " 21  region_region_12              78298 non-null  int32  \n",
      " 22  region_region_13              78298 non-null  int32  \n",
      " 23  region_region_14              78298 non-null  int32  \n",
      " 24  region_region_15              78298 non-null  int32  \n",
      " 25  region_region_16              78298 non-null  int32  \n",
      " 26  region_region_17              78298 non-null  int32  \n",
      " 27  region_region_18              78298 non-null  int32  \n",
      " 28  region_region_19              78298 non-null  int32  \n",
      " 29  region_region_2               78298 non-null  int32  \n",
      " 30  region_region_20              78298 non-null  int32  \n",
      " 31  region_region_21              78298 non-null  int32  \n",
      " 32  region_region_22              78298 non-null  int32  \n",
      " 33  region_region_23              78298 non-null  int32  \n",
      " 34  region_region_24              78298 non-null  int32  \n",
      " 35  region_region_25              78298 non-null  int32  \n",
      " 36  region_region_26              78298 non-null  int32  \n",
      " 37  region_region_27              78298 non-null  int32  \n",
      " 38  region_region_28              78298 non-null  int32  \n",
      " 39  region_region_29              78298 non-null  int32  \n",
      " 40  region_region_3               78298 non-null  int32  \n",
      " 41  region_region_30              78298 non-null  int32  \n",
      " 42  region_region_31              78298 non-null  int32  \n",
      " 43  region_region_32              78298 non-null  int32  \n",
      " 44  region_region_33              78298 non-null  int32  \n",
      " 45  region_region_34              78298 non-null  int32  \n",
      " 46  region_region_4               78298 non-null  int32  \n",
      " 47  region_region_5               78298 non-null  int32  \n",
      " 48  region_region_6               78298 non-null  int32  \n",
      " 49  region_region_7               78298 non-null  int32  \n",
      " 50  region_region_8               78298 non-null  int32  \n",
      " 51  region_region_9               78298 non-null  int32  \n",
      " 52  gender_m                      78298 non-null  int32  \n",
      " 53  recruitment_channel_referred  78298 non-null  int32  \n",
      " 54  recruitment_channel_sourcing  78298 non-null  int32  \n",
      "dtypes: float64(2), int32(44), int64(7), object(2)\n",
      "memory usage: 19.7+ MB\n"
     ]
    }
   ],
   "source": [
    "#creating new columns based on categorical values in the columns\n",
    "for col in cat_vars:\n",
    "    dummy=pd.get_dummies(id_all[col],drop_first=True,prefix=col)\n",
    "    dummy=dummy.astype(int)\n",
    "    id_all=pd.concat([id_all,dummy],axis=1)\n",
    "    del id_all[col]\n",
    "    del dummy\n",
    "    id_all.info()"
   ]
  },
  {
   "cell_type": "code",
   "execution_count": 15,
   "id": "8a333db1",
   "metadata": {},
   "outputs": [
    {
     "data": {
      "text/html": [
       "<div>\n",
       "<style scoped>\n",
       "    .dataframe tbody tr th:only-of-type {\n",
       "        vertical-align: middle;\n",
       "    }\n",
       "\n",
       "    .dataframe tbody tr th {\n",
       "        vertical-align: top;\n",
       "    }\n",
       "\n",
       "    .dataframe thead th {\n",
       "        text-align: right;\n",
       "    }\n",
       "</style>\n",
       "<table border=\"1\" class=\"dataframe\">\n",
       "  <thead>\n",
       "    <tr style=\"text-align: right;\">\n",
       "      <th></th>\n",
       "      <th>employee_id</th>\n",
       "      <th>education</th>\n",
       "      <th>no_of_trainings</th>\n",
       "      <th>age</th>\n",
       "      <th>previous_year_rating</th>\n",
       "      <th>length_of_service</th>\n",
       "      <th>KPIs_met &gt;80%</th>\n",
       "      <th>awards_won?</th>\n",
       "      <th>avg_training_score</th>\n",
       "      <th>is_promoted</th>\n",
       "      <th>...</th>\n",
       "      <th>region_region_34</th>\n",
       "      <th>region_region_4</th>\n",
       "      <th>region_region_5</th>\n",
       "      <th>region_region_6</th>\n",
       "      <th>region_region_7</th>\n",
       "      <th>region_region_8</th>\n",
       "      <th>region_region_9</th>\n",
       "      <th>gender_m</th>\n",
       "      <th>recruitment_channel_referred</th>\n",
       "      <th>recruitment_channel_sourcing</th>\n",
       "    </tr>\n",
       "  </thead>\n",
       "  <tbody>\n",
       "    <tr>\n",
       "      <th>0</th>\n",
       "      <td>65438</td>\n",
       "      <td>0.0</td>\n",
       "      <td>-0.417590</td>\n",
       "      <td>0.026400</td>\n",
       "      <td>0.0</td>\n",
       "      <td>0.506357</td>\n",
       "      <td>1.350779</td>\n",
       "      <td>-0.153613</td>\n",
       "      <td>-1.072184</td>\n",
       "      <td>0</td>\n",
       "      <td>...</td>\n",
       "      <td>0</td>\n",
       "      <td>0</td>\n",
       "      <td>0</td>\n",
       "      <td>0</td>\n",
       "      <td>1</td>\n",
       "      <td>0</td>\n",
       "      <td>0</td>\n",
       "      <td>0</td>\n",
       "      <td>0</td>\n",
       "      <td>1</td>\n",
       "    </tr>\n",
       "    <tr>\n",
       "      <th>1</th>\n",
       "      <td>65141</td>\n",
       "      <td>0.0</td>\n",
       "      <td>-0.417590</td>\n",
       "      <td>-0.625841</td>\n",
       "      <td>0.0</td>\n",
       "      <td>-0.435253</td>\n",
       "      <td>-0.740314</td>\n",
       "      <td>-0.153613</td>\n",
       "      <td>-0.250282</td>\n",
       "      <td>0</td>\n",
       "      <td>...</td>\n",
       "      <td>0</td>\n",
       "      <td>0</td>\n",
       "      <td>0</td>\n",
       "      <td>0</td>\n",
       "      <td>0</td>\n",
       "      <td>0</td>\n",
       "      <td>0</td>\n",
       "      <td>1</td>\n",
       "      <td>0</td>\n",
       "      <td>0</td>\n",
       "    </tr>\n",
       "    <tr>\n",
       "      <th>2</th>\n",
       "      <td>7513</td>\n",
       "      <td>0.0</td>\n",
       "      <td>-0.417590</td>\n",
       "      <td>-0.104048</td>\n",
       "      <td>0.0</td>\n",
       "      <td>0.270954</td>\n",
       "      <td>-0.740314</td>\n",
       "      <td>-0.153613</td>\n",
       "      <td>-0.997466</td>\n",
       "      <td>0</td>\n",
       "      <td>...</td>\n",
       "      <td>0</td>\n",
       "      <td>0</td>\n",
       "      <td>0</td>\n",
       "      <td>0</td>\n",
       "      <td>0</td>\n",
       "      <td>0</td>\n",
       "      <td>0</td>\n",
       "      <td>1</td>\n",
       "      <td>0</td>\n",
       "      <td>1</td>\n",
       "    </tr>\n",
       "    <tr>\n",
       "      <th>3</th>\n",
       "      <td>2542</td>\n",
       "      <td>0.0</td>\n",
       "      <td>1.230501</td>\n",
       "      <td>0.548193</td>\n",
       "      <td>0.0</td>\n",
       "      <td>0.977162</td>\n",
       "      <td>-0.740314</td>\n",
       "      <td>-0.153613</td>\n",
       "      <td>-0.997466</td>\n",
       "      <td>0</td>\n",
       "      <td>...</td>\n",
       "      <td>0</td>\n",
       "      <td>0</td>\n",
       "      <td>0</td>\n",
       "      <td>0</td>\n",
       "      <td>0</td>\n",
       "      <td>0</td>\n",
       "      <td>0</td>\n",
       "      <td>1</td>\n",
       "      <td>0</td>\n",
       "      <td>0</td>\n",
       "    </tr>\n",
       "    <tr>\n",
       "      <th>4</th>\n",
       "      <td>48945</td>\n",
       "      <td>0.0</td>\n",
       "      <td>-0.417590</td>\n",
       "      <td>1.330882</td>\n",
       "      <td>0.0</td>\n",
       "      <td>-0.906058</td>\n",
       "      <td>-0.740314</td>\n",
       "      <td>-0.153613</td>\n",
       "      <td>0.721058</td>\n",
       "      <td>0</td>\n",
       "      <td>...</td>\n",
       "      <td>0</td>\n",
       "      <td>0</td>\n",
       "      <td>0</td>\n",
       "      <td>0</td>\n",
       "      <td>0</td>\n",
       "      <td>0</td>\n",
       "      <td>0</td>\n",
       "      <td>1</td>\n",
       "      <td>0</td>\n",
       "      <td>0</td>\n",
       "    </tr>\n",
       "  </tbody>\n",
       "</table>\n",
       "<p>5 rows × 55 columns</p>\n",
       "</div>"
      ],
      "text/plain": [
       "   employee_id  education  no_of_trainings       age  previous_year_rating  \\\n",
       "0        65438        0.0        -0.417590  0.026400                   0.0   \n",
       "1        65141        0.0        -0.417590 -0.625841                   0.0   \n",
       "2         7513        0.0        -0.417590 -0.104048                   0.0   \n",
       "3         2542        0.0         1.230501  0.548193                   0.0   \n",
       "4        48945        0.0        -0.417590  1.330882                   0.0   \n",
       "\n",
       "   length_of_service  KPIs_met >80%  awards_won?  avg_training_score  \\\n",
       "0           0.506357       1.350779    -0.153613           -1.072184   \n",
       "1          -0.435253      -0.740314    -0.153613           -0.250282   \n",
       "2           0.270954      -0.740314    -0.153613           -0.997466   \n",
       "3           0.977162      -0.740314    -0.153613           -0.997466   \n",
       "4          -0.906058      -0.740314    -0.153613            0.721058   \n",
       "\n",
       "  is_promoted  ... region_region_34  region_region_4  region_region_5  \\\n",
       "0           0  ...                0                0                0   \n",
       "1           0  ...                0                0                0   \n",
       "2           0  ...                0                0                0   \n",
       "3           0  ...                0                0                0   \n",
       "4           0  ...                0                0                0   \n",
       "\n",
       "   region_region_6  region_region_7  region_region_8  region_region_9  \\\n",
       "0                0                1                0                0   \n",
       "1                0                0                0                0   \n",
       "2                0                0                0                0   \n",
       "3                0                0                0                0   \n",
       "4                0                0                0                0   \n",
       "\n",
       "   gender_m  recruitment_channel_referred  recruitment_channel_sourcing  \n",
       "0         0                             0                             1  \n",
       "1         1                             0                             0  \n",
       "2         1                             0                             1  \n",
       "3         1                             0                             0  \n",
       "4         1                             0                             0  \n",
       "\n",
       "[5 rows x 55 columns]"
      ]
     },
     "execution_count": 15,
     "metadata": {},
     "output_type": "execute_result"
    }
   ],
   "source": [
    "#transforming data in numerical columns to remove impact of outliers\n",
    "for col in num_vars:\n",
    "    scaler = StandardScaler()\n",
    "    id_all[num_vars] = scaler.fit_transform(id_all[num_vars])\n",
    "#df_scaled = pd.DataFrame(df_scaled, columns=num_vars)\n",
    "#print(\"Scaled Dataset Using MinMaxScaler\")\n",
    "id_all.head()"
   ]
  },
  {
   "cell_type": "code",
   "execution_count": 16,
   "id": "94628931",
   "metadata": {},
   "outputs": [],
   "source": [
    "#dropping employee_id columns as it is of no use in calculations\n",
    "id_all=id_all.drop(['employee_id'],1)"
   ]
  },
  {
   "cell_type": "code",
   "execution_count": 17,
   "id": "3eab944c",
   "metadata": {},
   "outputs": [],
   "source": [
    "# separating data again in two different datasets\n",
    "id_train=id_all[id_all['data_type']=='train']\n",
    "id_train=id_train.drop(['data_type'],1)\n",
    "id_test=id_all[id_all['data_type']=='test']\n",
    "id_test=id_test.drop(['data_type','is_promoted'],1)"
   ]
  },
  {
   "cell_type": "code",
   "execution_count": 18,
   "id": "38f91571",
   "metadata": {},
   "outputs": [
    {
     "data": {
      "text/plain": [
       "((54808, 53), (23490, 52))"
      ]
     },
     "execution_count": 18,
     "metadata": {},
     "output_type": "execute_result"
    }
   ],
   "source": [
    "#Checking shapes of new datasets\n",
    "id_train.shape,id_test.shape"
   ]
  },
  {
   "cell_type": "code",
   "execution_count": 19,
   "id": "46388859",
   "metadata": {},
   "outputs": [],
   "source": [
    "#Creating X and y from id_train dataset\n",
    "X=id_train.drop(['is_promoted'],1)\n",
    "y=id_train['is_promoted'].astype('int')"
   ]
  },
  {
   "cell_type": "code",
   "execution_count": 23,
   "id": "fd00b304",
   "metadata": {},
   "outputs": [],
   "source": [
    "#Using train_test_split to split the data\n",
    "X_train,X_test,y_train,y_test=train_test_split(X,y,test_size=0.2,random_state=42)"
   ]
  },
  {
   "cell_type": "code",
   "execution_count": 24,
   "id": "62b99dd7",
   "metadata": {},
   "outputs": [
    {
     "name": "stdout",
     "output_type": "stream",
     "text": [
      "(43846,) (10962,) (43846, 52) (10962, 52)\n"
     ]
    }
   ],
   "source": [
    "print(y_train.shape, y_test.shape, X_train.shape, X_test.shape)"
   ]
  },
  {
   "cell_type": "markdown",
   "id": "71869229",
   "metadata": {},
   "source": [
    "# LogisticRegression"
   ]
  },
  {
   "cell_type": "code",
   "execution_count": 25,
   "id": "ce1a47ec",
   "metadata": {},
   "outputs": [
    {
     "name": "stdout",
     "output_type": "stream",
     "text": [
      "Training set accuracy: 0.93117\n",
      "Test set accuracy: 0.93240\n"
     ]
    }
   ],
   "source": [
    "#Using logistic regression and evaluating the performance in both train and test datasets\n",
    "logreg = LogisticRegression().fit(X_train, y_train)\n",
    "print(\"Training set accuracy: {:.5f}\".format(logreg.score(X_train, y_train)))\n",
    "print(\"Test set accuracy: {:.5f}\".format(logreg.score(X_test, y_test)))"
   ]
  },
  {
   "cell_type": "code",
   "execution_count": 26,
   "id": "89a38a77",
   "metadata": {},
   "outputs": [],
   "source": [
    "#pred=gridlr.predict(X_test)\n",
    "#y_pred = logreg.predict_proba(X_test)\n",
    "#print(\"Confusion matrix: {}\".format(confusion_matrix(y_test, pred)))\n",
    "#print(\"Accuracy Score: {}\".format(accuracy_score(y_test, pred)))\n",
    "#print(\"Roc_Auc_Score: {}\".format(roc_auc_score(y_test, y_pred[:, 1])))"
   ]
  },
  {
   "cell_type": "code",
   "execution_count": 27,
   "id": "549fda43",
   "metadata": {},
   "outputs": [],
   "source": [
    "#Using parameter to tune up\n",
    "params={'class_weight':['balanced',None],\n",
    "        'penalty':['l1','l2'],\n",
    "        'C':[.0001,.0005,.001,.005,.01,.05,.1,1,2,5,20,50,100]}"
   ]
  },
  {
   "cell_type": "code",
   "execution_count": 28,
   "id": "486aba7e",
   "metadata": {},
   "outputs": [],
   "source": [
    "#also using GridSearch\n",
    "model=LogisticRegression()\n",
    "grid_search=GridSearchCV(model,\n",
    "                         param_grid=params,\n",
    "                         cv=3,\n",
    "                         scoring=\"roc_auc\",\n",
    "                         n_jobs=-1,\n",
    "                         verbose=20)"
   ]
  },
  {
   "cell_type": "code",
   "execution_count": 29,
   "id": "eb0b560b",
   "metadata": {},
   "outputs": [
    {
     "name": "stdout",
     "output_type": "stream",
     "text": [
      "Fitting 3 folds for each of 52 candidates, totalling 156 fits\n",
      "Training set accuracy: 0.87377\n",
      "Test set accuracy: 0.87849\n"
     ]
    }
   ],
   "source": [
    "#finding the performance\n",
    "gridlr=grid_search.fit(X_train, y_train)\n",
    "print(\"Training set accuracy: {:.5f}\".format(gridlr.score(X_train, y_train)))\n",
    "print(\"Test set accuracy: {:.5f}\".format(gridlr.score(X_test, y_test)))"
   ]
  },
  {
   "cell_type": "markdown",
   "id": "4a254efb",
   "metadata": {},
   "source": [
    "Not a good model,let's try sth else"
   ]
  },
  {
   "cell_type": "markdown",
   "id": "3568b501",
   "metadata": {},
   "source": [
    "# KNN"
   ]
  },
  {
   "cell_type": "code",
   "execution_count": 30,
   "id": "c23a43b3",
   "metadata": {},
   "outputs": [
    {
     "data": {
      "image/png": "[encoded data removed]",
      "text/plain": [
       "<Figure size 432x288 with 1 Axes>"
      ]
     },
     "metadata": {
      "needs_background": "light"
     },
     "output_type": "display_data"
    }
   ],
   "source": [
    "#finding best neighbour\n",
    "training_accuracy = []\n",
    "test_accuracy = []\n",
    "# try n_neighbors from 1 to 10\n",
    "neighbors_settings = range(1, 11)\n",
    "\n",
    "for n_neighbors in neighbors_settings:\n",
    "    # build the model\n",
    "    knn = KNeighborsClassifier(n_neighbors=n_neighbors)\n",
    "    knn.fit(X_train, y_train)\n",
    "    # record training set accuracy\n",
    "    training_accuracy.append(knn.score(X_train, y_train))\n",
    "    # record test set accuracy\n",
    "    test_accuracy.append(knn.score(X_test, y_test))\n",
    "\n",
    "plt.plot(neighbors_settings, training_accuracy, label=\"training accuracy\")\n",
    "plt.plot(neighbors_settings, test_accuracy, label=\"test accuracy\")\n",
    "plt.ylabel(\"Accuracy\")\n",
    "plt.xlabel(\"n_neighbors\")\n",
    "plt.legend()\n",
    "plt.savefig('knn_compare_model')"
   ]
  },
  {
   "cell_type": "code",
   "execution_count": 31,
   "id": "f676d85c",
   "metadata": {},
   "outputs": [
    {
     "name": "stdout",
     "output_type": "stream",
     "text": [
      "Accuracy of K-NN classifier on training set: 0.92378\n",
      "Accuracy of K-NN classifier on test set: 0.92146\n"
     ]
    }
   ],
   "source": [
    "knn = KNeighborsClassifier(n_neighbors=8)\n",
    "knn.fit(X_train, y_train)\n",
    "\n",
    "print('Accuracy of K-NN classifier on training set: {:.5f}'.format(knn.score(X_train, y_train)))\n",
    "print('Accuracy of K-NN classifier on test set: {:.5f}'.format(knn.score(X_test, y_test)))"
   ]
  },
  {
   "cell_type": "markdown",
   "id": "da108f99",
   "metadata": {},
   "source": [
    "# DecisionTreeClassifier"
   ]
  },
  {
   "cell_type": "code",
   "execution_count": 32,
   "id": "39902fac",
   "metadata": {},
   "outputs": [
    {
     "name": "stdout",
     "output_type": "stream",
     "text": [
      "Accuracy on training set: 0.999\n",
      "Accuracy on test set: 0.897\n"
     ]
    }
   ],
   "source": [
    "tree = DecisionTreeClassifier(random_state=0)\n",
    "tree.fit(X_train, y_train)\n",
    "print(\"Accuracy on training set: {:.3f}\".format(tree.score(X_train, y_train)))\n",
    "print(\"Accuracy on test set: {:.3f}\".format(tree.score(X_test, y_test)))"
   ]
  },
  {
   "cell_type": "code",
   "execution_count": 33,
   "id": "274cd338",
   "metadata": {},
   "outputs": [
    {
     "data": {
      "image/png": "[encoded data removed]",
      "text/plain": [
       "<Figure size 432x288 with 1 Axes>"
      ]
     },
     "metadata": {
      "needs_background": "light"
     },
     "output_type": "display_data"
    }
   ],
   "source": [
    "#finding best max_depth\n",
    "training_accuracy = []\n",
    "test_accuracy = []\n",
    "# try n_neighbors from 1 to 10\n",
    "max_depth_settings = range(1, 15)\n",
    "\n",
    "for max_depth in max_depth_settings:\n",
    "    # build the model\n",
    "    tree = DecisionTreeClassifier(max_depth=max_depth, random_state=0)\n",
    "    tree.fit(X_train, y_train)\n",
    "    # record training set accuracy\n",
    "    training_accuracy.append(tree.score(X_train, y_train))\n",
    "    # record test set accuracy\n",
    "    test_accuracy.append(tree.score(X_test, y_test))\n",
    "\n",
    "plt.plot(max_depth_settings, training_accuracy, label=\"training accuracy\")\n",
    "plt.plot(max_depth_settings, test_accuracy, label=\"test accuracy\")\n",
    "plt.ylabel(\"Accuracy\")\n",
    "plt.xlabel(\"max_depth\")\n",
    "plt.legend()\n",
    "plt.savefig('tree_compare_model')"
   ]
  },
  {
   "cell_type": "code",
   "execution_count": 35,
   "id": "bb791c06",
   "metadata": {},
   "outputs": [
    {
     "name": "stdout",
     "output_type": "stream",
     "text": [
      "Accuracy on training set: 0.931\n",
      "Accuracy on test set: 0.932\n"
     ]
    }
   ],
   "source": [
    "#Checking performance with optimized max_depth\n",
    "tree = DecisionTreeClassifier(max_depth=6, random_state=0)\n",
    "tree.fit(X_train, y_train)\n",
    "\n",
    "print(\"Accuracy on training set: {:.3f}\".format(tree.score(X_train, y_train)))\n",
    "print(\"Accuracy on test set: {:.3f}\".format(tree.score(X_test, y_test)))"
   ]
  },
  {
   "cell_type": "markdown",
   "id": "e0ebb86b",
   "metadata": {},
   "source": [
    "# RandomForestClassifier"
   ]
  },
  {
   "cell_type": "code",
   "execution_count": 36,
   "id": "a6d0aa1d",
   "metadata": {},
   "outputs": [
    {
     "name": "stdout",
     "output_type": "stream",
     "text": [
      "Accuracy on training set: 0.999\n",
      "Accuracy on test set: 0.935\n"
     ]
    }
   ],
   "source": [
    "rf = RandomForestClassifier(n_estimators=100, random_state=0)\n",
    "rf.fit(X_train, y_train)\n",
    "print(\"Accuracy on training set: {:.3f}\".format(rf.score(X_train, y_train)))\n",
    "print(\"Accuracy on test set: {:.3f}\".format(rf.score(X_test, y_test)))"
   ]
  },
  {
   "cell_type": "code",
   "execution_count": 37,
   "id": "49bc5a87",
   "metadata": {},
   "outputs": [
    {
     "data": {
      "image/png": "[encoded data removed]",
      "text/plain": [
       "<Figure size 432x288 with 1 Axes>"
      ]
     },
     "metadata": {
      "needs_background": "light"
     },
     "output_type": "display_data"
    }
   ],
   "source": [
    "#finding best max_depth\n",
    "training_accuracy = []\n",
    "test_accuracy = []\n",
    "# try n_neighbors from 1 to 10\n",
    "max_depth_settings = range(1, 20)\n",
    "\n",
    "for max_depth in max_depth_settings:\n",
    "    # build the model\n",
    "    rf = RandomForestClassifier(max_depth=max_depth, random_state=0,n_estimators=100)\n",
    "    rf.fit(X_train, y_train)\n",
    "    # record training set accuracy\n",
    "    training_accuracy.append(rf.score(X_train, y_train))\n",
    "    # record test set accuracy\n",
    "    test_accuracy.append(rf.score(X_test, y_test))\n",
    "\n",
    "plt.plot(max_depth_settings, training_accuracy, label=\"training accuracy\")\n",
    "plt.plot(max_depth_settings, test_accuracy, label=\"test accuracy\")\n",
    "plt.ylabel(\"Accuracy\")\n",
    "plt.xlabel(\"max_depth\")\n",
    "plt.legend()\n",
    "plt.savefig('rf_compare_model')"
   ]
  },
  {
   "cell_type": "code",
   "execution_count": 39,
   "id": "546757af",
   "metadata": {},
   "outputs": [
    {
     "name": "stdout",
     "output_type": "stream",
     "text": [
      "Accuracy on training set: 0.929\n",
      "Accuracy on test set: 0.929\n"
     ]
    }
   ],
   "source": [
    "#Checking with optimized max_depth\n",
    "rf1 = RandomForestClassifier(max_depth=13, n_estimators=100, random_state=0)\n",
    "rf1.fit(X_train, y_train)\n",
    "print(\"Accuracy on training set: {:.3f}\".format(rf1.score(X_train, y_train)))\n",
    "print(\"Accuracy on test set: {:.3f}\".format(rf1.score(X_test, y_test)))"
   ]
  },
  {
   "cell_type": "markdown",
   "id": "1acfe389",
   "metadata": {},
   "source": [
    "# GradientBoostingClassifier"
   ]
  },
  {
   "cell_type": "code",
   "execution_count": 67,
   "id": "12df6cc1",
   "metadata": {},
   "outputs": [
    {
     "name": "stdout",
     "output_type": "stream",
     "text": [
      "Accuracy on training set: 0.940\n",
      "Accuracy on test set: 0.941\n"
     ]
    }
   ],
   "source": [
    "gb = GradientBoostingClassifier(random_state=42)\n",
    "gb.fit(X_train, y_train)\n",
    "\n",
    "print(\"Accuracy on training set: {:.3f}\".format(gb.score(X_train, y_train)))\n",
    "print(\"Accuracy on test set: {:.3f}\".format(gb.score(X_test, y_test)))"
   ]
  },
  {
   "cell_type": "code",
   "execution_count": 41,
   "id": "c9f9b2f2",
   "metadata": {},
   "outputs": [
    {
     "data": {
      "image/png": "[encoded data removed]",
      "text/plain": [
       "<Figure size 432x288 with 1 Axes>"
      ]
     },
     "metadata": {
      "needs_background": "light"
     },
     "output_type": "display_data"
    }
   ],
   "source": [
    "#finding best learning_rate\n",
    "training_accuracy = []\n",
    "test_accuracy = []\n",
    "# try n_neighbors from 1 to 10\n",
    "learning_rate_settings = np.arange(0,1,.01)\n",
    "\n",
    "for learning_rate in learning_rate_settings:\n",
    "    # build the model\n",
    "    gb = GradientBoostingClassifier(learning_rate=learning_rate, random_state=0)\n",
    "    gb.fit(X_train, y_train)\n",
    "    # record training set accuracy\n",
    "    training_accuracy.append(gb.score(X_train, y_train))\n",
    "    # record test set accuracy\n",
    "    test_accuracy.append(gb.score(X_test, y_test))\n",
    "\n",
    "plt.plot(learning_rate_settings, training_accuracy, label=\"training accuracy\")\n",
    "plt.plot(learning_rate_settings, test_accuracy, label=\"test accuracy\")\n",
    "plt.ylabel(\"Accuracy\")\n",
    "plt.xlabel(\"learning_rate\")\n",
    "plt.legend()\n",
    "plt.savefig('gb_compare_model')"
   ]
  },
  {
   "cell_type": "code",
   "execution_count": 42,
   "id": "cb106228",
   "metadata": {},
   "outputs": [
    {
     "name": "stdout",
     "output_type": "stream",
     "text": [
      "Accuracy on training set: 0.943\n",
      "Accuracy on test set: 0.942\n"
     ]
    }
   ],
   "source": [
    "#Using best learning rate\n",
    "gb2 = GradientBoostingClassifier(random_state=0, learning_rate=.2)\n",
    "gb2.fit(X_train, y_train)\n",
    "\n",
    "print(\"Accuracy on training set: {:.3f}\".format(gb2.score(X_train, y_train)))\n",
    "print(\"Accuracy on test set: {:.3f}\".format(gb2.score(X_test, y_test)))"
   ]
  },
  {
   "cell_type": "markdown",
   "id": "600ea11f",
   "metadata": {},
   "source": [
    "# Support Vector Classification"
   ]
  },
  {
   "cell_type": "code",
   "execution_count": 43,
   "id": "bc543145",
   "metadata": {},
   "outputs": [
    {
     "name": "stdout",
     "output_type": "stream",
     "text": [
      "Accuracy on training set: 0.94\n",
      "Accuracy on test set: 0.94\n"
     ]
    }
   ],
   "source": [
    "svc = SVC(random_state=42)\n",
    "svc.fit(X_train, y_train)\n",
    "\n",
    "print(\"Accuracy on training set: {:.2f}\".format(svc.score(X_train, y_train)))\n",
    "print(\"Accuracy on test set: {:.2f}\".format(svc.score(X_test, y_test)))"
   ]
  },
  {
   "cell_type": "code",
   "execution_count": 44,
   "id": "cdaaba5b",
   "metadata": {},
   "outputs": [
    {
     "data": {
      "image/png": "[encoded data removed]",
      "text/plain": [
       "<Figure size 432x288 with 1 Axes>"
      ]
     },
     "metadata": {
      "needs_background": "light"
     },
     "output_type": "display_data"
    }
   ],
   "source": [
    "#finding best Regularization\n",
    "training_accuracy = []\n",
    "test_accuracy = []\n",
    "# try n_neighbors from 1 to 10\n",
    "learning_rate_settings = np.arange(0.1,15,1)\n",
    "\n",
    "for C in learning_rate_settings:\n",
    "    # build the model\n",
    "    svc = SVC(C=C,random_state=42)\n",
    "    svc.fit(X_train, y_train)\n",
    "    # record training set accuracy\n",
    "    training_accuracy.append(svc.score(X_train, y_train))\n",
    "    # record test set accuracy\n",
    "    test_accuracy.append(svc.score(X_test, y_test))\n",
    "\n",
    "plt.plot(learning_rate_settings, training_accuracy, label=\"training accuracy\")\n",
    "plt.plot(learning_rate_settings, test_accuracy, label=\"test accuracy\")\n",
    "plt.ylabel(\"Accuracy\")\n",
    "plt.xlabel(\"Regularization\")\n",
    "plt.legend()\n",
    "plt.savefig('SVC_compare_model')"
   ]
  },
  {
   "cell_type": "markdown",
   "id": "fb905c01",
   "metadata": {},
   "source": [
    "# Multi-layer Perceptron classifier."
   ]
  },
  {
   "cell_type": "code",
   "execution_count": 45,
   "id": "c8c54ed0",
   "metadata": {},
   "outputs": [
    {
     "name": "stdout",
     "output_type": "stream",
     "text": [
      "Accuracy on training set: 0.94978\n",
      "Accuracy on test set: 0.93277\n"
     ]
    }
   ],
   "source": [
    "mlp = MLPClassifier(random_state=42)\n",
    "mlp.fit(X_train, y_train)\n",
    "\n",
    "print(\"Accuracy on training set: {:.5f}\".format(mlp.score(X_train, y_train)))\n",
    "print(\"Accuracy on test set: {:.5f}\".format(mlp.score(X_test, y_test)))"
   ]
  },
  {
   "cell_type": "code",
   "execution_count": 46,
   "id": "503e727e",
   "metadata": {},
   "outputs": [
    {
     "name": "stdout",
     "output_type": "stream",
     "text": [
      "Accuracy on training set: 0.944\n",
      "Accuracy on test set: 0.941\n"
     ]
    }
   ],
   "source": [
    "mlp1 = MLPClassifier(max_iter=50, random_state=45)\n",
    "mlp1.fit(X_train, y_train)\n",
    "\n",
    "print(\"Accuracy on training set: {:.3f}\".format(mlp1.score(X_train, y_train)))\n",
    "print(\"Accuracy on test set: {:.3f}\".format(mlp1.score(X_test, y_test)))"
   ]
  },
  {
   "cell_type": "code",
   "execution_count": 55,
   "id": "ef80191b",
   "metadata": {},
   "outputs": [
    {
     "name": "stdout",
     "output_type": "stream",
     "text": [
      "Accuracy on training set: 0.944\n",
      "Accuracy on test set: 0.941\n"
     ]
    }
   ],
   "source": [
    "mlp2 = MLPClassifier(max_iter=50, alpha=.01, random_state=42)\n",
    "mlp2.fit(X_train, y_train)\n",
    "\n",
    "print(\"Accuracy on training set: {:.3f}\".format(mlp2.score(X_train, y_train)))\n",
    "print(\"Accuracy on test set: {:.3f}\".format(mlp2.score(X_test, y_test)))"
   ]
  },
  {
   "cell_type": "code",
   "execution_count": 56,
   "id": "abc17c95",
   "metadata": {},
   "outputs": [
    {
     "name": "stdout",
     "output_type": "stream",
     "text": [
      "Accuracy on training set: 0.941\n",
      "Accuracy on test set: 0.942\n"
     ]
    }
   ],
   "source": [
    "mlp3 = MLPClassifier(max_iter=12, alpha=0.002, random_state=42)\n",
    "mlp3.fit(X_train, y_train)\n",
    "\n",
    "print(\"Accuracy on training set: {:.3f}\".format(mlp3.score(X_train, y_train)))\n",
    "print(\"Accuracy on test set: {:.3f}\".format(mlp3.score(X_test, y_test)))"
   ]
  },
  {
   "cell_type": "code",
   "execution_count": 57,
   "id": "7c768843",
   "metadata": {},
   "outputs": [
    {
     "data": {
      "image/png": "[encoded data removed]",
      "text/plain": [
       "<Figure size 432x288 with 1 Axes>"
      ]
     },
     "metadata": {
      "needs_background": "light"
     },
     "output_type": "display_data"
    }
   ],
   "source": [
    "#finding best max_iter_settings\n",
    "training_accuracy = []\n",
    "test_accuracy = []\n",
    "# try n_neighbors from 1 to 10\n",
    "max_iter_settings = np.arange(1,200,1)\n",
    "\n",
    "for max_iter in max_iter_settings:\n",
    "    # build the model\n",
    "    mlp4 = MLPClassifier(max_iter=max_iter,random_state=0)\n",
    "    mlp4.fit(X_train, y_train)\n",
    "    # record training set accuracy\n",
    "    training_accuracy.append(mlp4.score(X_train, y_train))\n",
    "    # record test set accuracy\n",
    "    test_accuracy.append(mlp4.score(X_test, y_test))\n",
    "\n",
    "plt.plot(max_iter_settings, training_accuracy, label=\"training accuracy\")\n",
    "plt.plot(max_iter_settings, test_accuracy, label=\"test accuracy\")\n",
    "plt.ylabel(\"Accuracy\")\n",
    "plt.xlabel(\"Max_Itr\")\n",
    "plt.legend()\n",
    "plt.savefig('mlp_compare_model')"
   ]
  },
  {
   "cell_type": "code",
   "execution_count": 59,
   "id": "c4c661e0",
   "metadata": {},
   "outputs": [
    {
     "data": {
      "image/png": "[encoded data removed]",
      "text/plain": [
       "<Figure size 432x288 with 1 Axes>"
      ]
     },
     "metadata": {
      "needs_background": "light"
     },
     "output_type": "display_data"
    }
   ],
   "source": [
    "#finding best Regularization\n",
    "training_accuracy = []\n",
    "test_accuracy = []\n",
    "# try n_neighbors from 1 to 10\n",
    "regularization = np.arange(.001,1,.01)\n",
    "\n",
    "for alpha in regularization:\n",
    "    # build the model\n",
    "    mlp5 = MLPClassifier(alpha=alpha,random_state=0)\n",
    "    mlp5.fit(X_train, y_train)\n",
    "    # record training set accuracy\n",
    "    training_accuracy.append(mlp5.score(X_train, y_train))\n",
    "    # record test set accuracy\n",
    "    test_accuracy.append(mlp5.score(X_test, y_test))\n",
    "\n",
    "plt.plot(regularization, training_accuracy, label=\"training accuracy\")\n",
    "plt.plot(regularization, test_accuracy, label=\"test accuracy\")\n",
    "plt.ylabel(\"Accuracy\")\n",
    "plt.xlabel(\"regularization\")\n",
    "plt.legend()\n",
    "plt.savefig('mlp_regularization_model')"
   ]
  },
  {
   "cell_type": "code",
   "execution_count": 64,
   "id": "7bc728e3",
   "metadata": {},
   "outputs": [
    {
     "name": "stdout",
     "output_type": "stream",
     "text": [
      "Accuracy on training set: 0.941\n",
      "Accuracy on test set: 0.942\n"
     ]
    }
   ],
   "source": [
    "#Using optimized max_it and alpha\n",
    "mlp6 = MLPClassifier(max_iter=20, alpha=0.1, random_state=42)\n",
    "mlp6.fit(X_train, y_train)\n",
    "\n",
    "print(\"Accuracy on training set: {:.3f}\".format(mlp6.score(X_train, y_train)))\n",
    "print(\"Accuracy on test set: {:.3f}\".format(mlp6.score(X_test, y_test)))"
   ]
  },
  {
   "cell_type": "code",
   "execution_count": 66,
   "id": "89fa76f7",
   "metadata": {},
   "outputs": [
    {
     "name": "stdout",
     "output_type": "stream",
     "text": [
      "Resampled shape of X:  (100280, 52)\n",
      "Resampled shape of Y:  (100280,)\n",
      "Counter({0: 50140, 1: 50140})\n"
     ]
    }
   ],
   "source": [
    "# Performing oversampling on gradient boost\n",
    "from collections import Counter\n",
    "from imblearn.over_sampling import SMOTE\n",
    "\n",
    "X_resampled, Y_resampled = SMOTE().fit_resample(X, y)\n",
    "print(\"Resampled shape of X: \", X_resampled.shape)\n",
    "print(\"Resampled shape of Y: \", Y_resampled.shape)\n",
    "\n",
    "value_counts = Counter(Y_resampled)\n",
    "print(value_counts)\n",
    "\n",
    "(train_X, test_X, train_Y, test_Y) = train_test_split(X_resampled, Y_resampled, test_size= 0.2, random_state= 42)"
   ]
  },
  {
   "cell_type": "code",
   "execution_count": 68,
   "id": "c39bee8f",
   "metadata": {},
   "outputs": [],
   "source": [
    "# Building the gradient boost classifier on the new dataset\n",
    "\n",
    "rf_resampled = GradientBoostingClassifier(random_state=0, learning_rate=.2)\n",
    "rf_resampled.fit(train_X, train_Y)\n",
    "\n",
    "predictions_resampled = rf_resampled.predict(test_X)\n",
    "gradient_boost_score_resampled = rf_resampled.score(test_X, test_Y) * 100"
   ]
  },
  {
   "cell_type": "code",
   "execution_count": 70,
   "id": "392352fd",
   "metadata": {},
   "outputs": [
    {
     "name": "stdout",
     "output_type": "stream",
     "text": [
      "Accuracy on training set: 0.908\n",
      "Accuracy on test set: 0.906\n"
     ]
    }
   ],
   "source": [
    "print(\"Accuracy on training set: {:.3f}\".format(rf_resampled.score(train_X, train_Y)))\n",
    "print(\"Accuracy on test set: {:.3f}\".format(rf_resampled.score(test_X, test_Y)))"
   ]
  },
  {
   "cell_type": "markdown",
   "id": "544fe34b",
   "metadata": {},
   "source": [
    "# Resampling doesnot give good result"
   ]
  },
  {
   "cell_type": "code",
   "execution_count": 71,
   "id": "4cf75e7c",
   "metadata": {},
   "outputs": [],
   "source": [
    "predictrff=rf_resampled.predict(id_test)"
   ]
  },
  {
   "cell_type": "code",
   "execution_count": 72,
   "id": "ffc2b59b",
   "metadata": {},
   "outputs": [
    {
     "data": {
      "text/plain": [
       "0.4151967435549525"
      ]
     },
     "execution_count": 72,
     "metadata": {},
     "output_type": "execute_result"
    }
   ],
   "source": [
    "predl=rf_resampled.predict(X_test)\n",
    "f1_score(y_test,predl)"
   ]
  },
  {
   "cell_type": "code",
   "execution_count": 73,
   "id": "814fcba0",
   "metadata": {},
   "outputs": [],
   "source": [
    "pd.DataFrame(predictrff).to_csv(\"HR_Analytics_rf_resampled.csv\",index=False)"
   ]
  },
  {
   "cell_type": "code",
   "execution_count": 64,
   "id": "442525a0",
   "metadata": {},
   "outputs": [
    {
     "data": {
      "text/plain": [
       "'Train Description :'"
      ]
     },
     "metadata": {},
     "output_type": "display_data"
    },
    {
     "data": {
      "text/html": [
       "<div>\n",
       "<style scoped>\n",
       "    .dataframe tbody tr th:only-of-type {\n",
       "        vertical-align: middle;\n",
       "    }\n",
       "\n",
       "    .dataframe tbody tr th {\n",
       "        vertical-align: top;\n",
       "    }\n",
       "\n",
       "    .dataframe thead th {\n",
       "        text-align: right;\n",
       "    }\n",
       "</style>\n",
       "<table border=\"1\" class=\"dataframe\">\n",
       "  <thead>\n",
       "    <tr style=\"text-align: right;\">\n",
       "      <th></th>\n",
       "      <th>employee_id</th>\n",
       "      <th>no_of_trainings</th>\n",
       "      <th>age</th>\n",
       "      <th>previous_year_rating</th>\n",
       "      <th>length_of_service</th>\n",
       "      <th>KPIs_met &gt;80%</th>\n",
       "      <th>awards_won?</th>\n",
       "      <th>avg_training_score</th>\n",
       "      <th>is_promoted</th>\n",
       "    </tr>\n",
       "  </thead>\n",
       "  <tbody>\n",
       "    <tr>\n",
       "      <th>count</th>\n",
       "      <td>54808.000000</td>\n",
       "      <td>54808.000000</td>\n",
       "      <td>54808.000000</td>\n",
       "      <td>50684.000000</td>\n",
       "      <td>54808.000000</td>\n",
       "      <td>54808.000000</td>\n",
       "      <td>54808.000000</td>\n",
       "      <td>54808.000000</td>\n",
       "      <td>54808.000000</td>\n",
       "    </tr>\n",
       "    <tr>\n",
       "      <th>mean</th>\n",
       "      <td>39195.830627</td>\n",
       "      <td>1.253011</td>\n",
       "      <td>34.803915</td>\n",
       "      <td>3.329256</td>\n",
       "      <td>5.865512</td>\n",
       "      <td>0.351974</td>\n",
       "      <td>0.023172</td>\n",
       "      <td>63.386750</td>\n",
       "      <td>0.085170</td>\n",
       "    </tr>\n",
       "    <tr>\n",
       "      <th>std</th>\n",
       "      <td>22586.581449</td>\n",
       "      <td>0.609264</td>\n",
       "      <td>7.660169</td>\n",
       "      <td>1.259993</td>\n",
       "      <td>4.265094</td>\n",
       "      <td>0.477590</td>\n",
       "      <td>0.150450</td>\n",
       "      <td>13.371559</td>\n",
       "      <td>0.279137</td>\n",
       "    </tr>\n",
       "    <tr>\n",
       "      <th>min</th>\n",
       "      <td>1.000000</td>\n",
       "      <td>1.000000</td>\n",
       "      <td>20.000000</td>\n",
       "      <td>1.000000</td>\n",
       "      <td>1.000000</td>\n",
       "      <td>0.000000</td>\n",
       "      <td>0.000000</td>\n",
       "      <td>39.000000</td>\n",
       "      <td>0.000000</td>\n",
       "    </tr>\n",
       "    <tr>\n",
       "      <th>25%</th>\n",
       "      <td>19669.750000</td>\n",
       "      <td>1.000000</td>\n",
       "      <td>29.000000</td>\n",
       "      <td>3.000000</td>\n",
       "      <td>3.000000</td>\n",
       "      <td>0.000000</td>\n",
       "      <td>0.000000</td>\n",
       "      <td>51.000000</td>\n",
       "      <td>0.000000</td>\n",
       "    </tr>\n",
       "    <tr>\n",
       "      <th>50%</th>\n",
       "      <td>39225.500000</td>\n",
       "      <td>1.000000</td>\n",
       "      <td>33.000000</td>\n",
       "      <td>3.000000</td>\n",
       "      <td>5.000000</td>\n",
       "      <td>0.000000</td>\n",
       "      <td>0.000000</td>\n",
       "      <td>60.000000</td>\n",
       "      <td>0.000000</td>\n",
       "    </tr>\n",
       "    <tr>\n",
       "      <th>75%</th>\n",
       "      <td>58730.500000</td>\n",
       "      <td>1.000000</td>\n",
       "      <td>39.000000</td>\n",
       "      <td>4.000000</td>\n",
       "      <td>7.000000</td>\n",
       "      <td>1.000000</td>\n",
       "      <td>0.000000</td>\n",
       "      <td>76.000000</td>\n",
       "      <td>0.000000</td>\n",
       "    </tr>\n",
       "    <tr>\n",
       "      <th>max</th>\n",
       "      <td>78298.000000</td>\n",
       "      <td>10.000000</td>\n",
       "      <td>60.000000</td>\n",
       "      <td>5.000000</td>\n",
       "      <td>37.000000</td>\n",
       "      <td>1.000000</td>\n",
       "      <td>1.000000</td>\n",
       "      <td>99.000000</td>\n",
       "      <td>1.000000</td>\n",
       "    </tr>\n",
       "  </tbody>\n",
       "</table>\n",
       "</div>"
      ],
      "text/plain": [
       "        employee_id  no_of_trainings           age  previous_year_rating  \\\n",
       "count  54808.000000     54808.000000  54808.000000          50684.000000   \n",
       "mean   39195.830627         1.253011     34.803915              3.329256   \n",
       "std    22586.581449         0.609264      7.660169              1.259993   \n",
       "min        1.000000         1.000000     20.000000              1.000000   \n",
       "25%    19669.750000         1.000000     29.000000              3.000000   \n",
       "50%    39225.500000         1.000000     33.000000              3.000000   \n",
       "75%    58730.500000         1.000000     39.000000              4.000000   \n",
       "max    78298.000000        10.000000     60.000000              5.000000   \n",
       "\n",
       "       length_of_service  KPIs_met >80%   awards_won?  avg_training_score  \\\n",
       "count       54808.000000   54808.000000  54808.000000        54808.000000   \n",
       "mean            5.865512       0.351974      0.023172           63.386750   \n",
       "std             4.265094       0.477590      0.150450           13.371559   \n",
       "min             1.000000       0.000000      0.000000           39.000000   \n",
       "25%             3.000000       0.000000      0.000000           51.000000   \n",
       "50%             5.000000       0.000000      0.000000           60.000000   \n",
       "75%             7.000000       1.000000      0.000000           76.000000   \n",
       "max            37.000000       1.000000      1.000000           99.000000   \n",
       "\n",
       "        is_promoted  \n",
       "count  54808.000000  \n",
       "mean       0.085170  \n",
       "std        0.279137  \n",
       "min        0.000000  \n",
       "25%        0.000000  \n",
       "50%        0.000000  \n",
       "75%        0.000000  \n",
       "max        1.000000  "
      ]
     },
     "metadata": {},
     "output_type": "display_data"
    },
    {
     "data": {
      "text/plain": [
       "'Test  Description :'"
      ]
     },
     "metadata": {},
     "output_type": "display_data"
    },
    {
     "data": {
      "text/html": [
       "<div>\n",
       "<style scoped>\n",
       "    .dataframe tbody tr th:only-of-type {\n",
       "        vertical-align: middle;\n",
       "    }\n",
       "\n",
       "    .dataframe tbody tr th {\n",
       "        vertical-align: top;\n",
       "    }\n",
       "\n",
       "    .dataframe thead th {\n",
       "        text-align: right;\n",
       "    }\n",
       "</style>\n",
       "<table border=\"1\" class=\"dataframe\">\n",
       "  <thead>\n",
       "    <tr style=\"text-align: right;\">\n",
       "      <th></th>\n",
       "      <th>employee_id</th>\n",
       "      <th>no_of_trainings</th>\n",
       "      <th>age</th>\n",
       "      <th>previous_year_rating</th>\n",
       "      <th>length_of_service</th>\n",
       "      <th>KPIs_met &gt;80%</th>\n",
       "      <th>awards_won?</th>\n",
       "      <th>avg_training_score</th>\n",
       "    </tr>\n",
       "  </thead>\n",
       "  <tbody>\n",
       "    <tr>\n",
       "      <th>count</th>\n",
       "      <td>23490.000000</td>\n",
       "      <td>23490.000000</td>\n",
       "      <td>23490.000000</td>\n",
       "      <td>21678.000000</td>\n",
       "      <td>23490.000000</td>\n",
       "      <td>23490.000000</td>\n",
       "      <td>23490.000000</td>\n",
       "      <td>23490.000000</td>\n",
       "    </tr>\n",
       "    <tr>\n",
       "      <th>mean</th>\n",
       "      <td>39041.399149</td>\n",
       "      <td>1.254236</td>\n",
       "      <td>34.782929</td>\n",
       "      <td>3.339146</td>\n",
       "      <td>5.810387</td>\n",
       "      <td>0.358834</td>\n",
       "      <td>0.022776</td>\n",
       "      <td>63.263133</td>\n",
       "    </tr>\n",
       "    <tr>\n",
       "      <th>std</th>\n",
       "      <td>22640.809201</td>\n",
       "      <td>0.600910</td>\n",
       "      <td>7.679492</td>\n",
       "      <td>1.263294</td>\n",
       "      <td>4.207917</td>\n",
       "      <td>0.479668</td>\n",
       "      <td>0.149191</td>\n",
       "      <td>13.411750</td>\n",
       "    </tr>\n",
       "    <tr>\n",
       "      <th>min</th>\n",
       "      <td>3.000000</td>\n",
       "      <td>1.000000</td>\n",
       "      <td>20.000000</td>\n",
       "      <td>1.000000</td>\n",
       "      <td>1.000000</td>\n",
       "      <td>0.000000</td>\n",
       "      <td>0.000000</td>\n",
       "      <td>39.000000</td>\n",
       "    </tr>\n",
       "    <tr>\n",
       "      <th>25%</th>\n",
       "      <td>19370.250000</td>\n",
       "      <td>1.000000</td>\n",
       "      <td>29.000000</td>\n",
       "      <td>3.000000</td>\n",
       "      <td>3.000000</td>\n",
       "      <td>0.000000</td>\n",
       "      <td>0.000000</td>\n",
       "      <td>51.000000</td>\n",
       "    </tr>\n",
       "    <tr>\n",
       "      <th>50%</th>\n",
       "      <td>38963.500000</td>\n",
       "      <td>1.000000</td>\n",
       "      <td>33.000000</td>\n",
       "      <td>3.000000</td>\n",
       "      <td>5.000000</td>\n",
       "      <td>0.000000</td>\n",
       "      <td>0.000000</td>\n",
       "      <td>60.000000</td>\n",
       "    </tr>\n",
       "    <tr>\n",
       "      <th>75%</th>\n",
       "      <td>58690.000000</td>\n",
       "      <td>1.000000</td>\n",
       "      <td>39.000000</td>\n",
       "      <td>4.000000</td>\n",
       "      <td>7.000000</td>\n",
       "      <td>1.000000</td>\n",
       "      <td>0.000000</td>\n",
       "      <td>76.000000</td>\n",
       "    </tr>\n",
       "    <tr>\n",
       "      <th>max</th>\n",
       "      <td>78295.000000</td>\n",
       "      <td>9.000000</td>\n",
       "      <td>60.000000</td>\n",
       "      <td>5.000000</td>\n",
       "      <td>34.000000</td>\n",
       "      <td>1.000000</td>\n",
       "      <td>1.000000</td>\n",
       "      <td>99.000000</td>\n",
       "    </tr>\n",
       "  </tbody>\n",
       "</table>\n",
       "</div>"
      ],
      "text/plain": [
       "        employee_id  no_of_trainings           age  previous_year_rating  \\\n",
       "count  23490.000000     23490.000000  23490.000000          21678.000000   \n",
       "mean   39041.399149         1.254236     34.782929              3.339146   \n",
       "std    22640.809201         0.600910      7.679492              1.263294   \n",
       "min        3.000000         1.000000     20.000000              1.000000   \n",
       "25%    19370.250000         1.000000     29.000000              3.000000   \n",
       "50%    38963.500000         1.000000     33.000000              3.000000   \n",
       "75%    58690.000000         1.000000     39.000000              4.000000   \n",
       "max    78295.000000         9.000000     60.000000              5.000000   \n",
       "\n",
       "       length_of_service  KPIs_met >80%   awards_won?  avg_training_score  \n",
       "count       23490.000000   23490.000000  23490.000000        23490.000000  \n",
       "mean            5.810387       0.358834      0.022776           63.263133  \n",
       "std             4.207917       0.479668      0.149191           13.411750  \n",
       "min             1.000000       0.000000      0.000000           39.000000  \n",
       "25%             3.000000       0.000000      0.000000           51.000000  \n",
       "50%             5.000000       0.000000      0.000000           60.000000  \n",
       "75%             7.000000       1.000000      0.000000           76.000000  \n",
       "max            34.000000       1.000000      1.000000           99.000000  "
      ]
     },
     "metadata": {},
     "output_type": "display_data"
    }
   ],
   "source": [
    "# Displaya Descriptive Statistics of Train and Test data\n",
    "display('Train Description :',train.describe())\n",
    "display('Test  Description :',test.describe())"
   ]
  },
  {
   "cell_type": "code",
   "execution_count": 67,
   "id": "bdf72886",
   "metadata": {},
   "outputs": [
    {
     "data": {
      "image/png": "[encoded data removed]",
      "text/plain": [
       "<Figure size 432x288 with 2 Axes>"
      ]
     },
     "metadata": {
      "needs_background": "light"
     },
     "output_type": "display_data"
    }
   ],
   "source": [
    "# Displays Correlation between Features through HeatMap - Ligther Color means Higher Correlation\n",
    "sns.heatmap(train.corr(), annot = True);"
   ]
  },
  {
   "cell_type": "code",
   "execution_count": 68,
   "id": "aad52eb0",
   "metadata": {},
   "outputs": [
    {
     "data": {
      "text/plain": [
       "'Checked Duplicates'"
      ]
     },
     "execution_count": 68,
     "metadata": {},
     "output_type": "execute_result"
    }
   ],
   "source": [
    "# Removes Data Duplicates while Retaining the First one\n",
    "def remove_duplicate(data):\n",
    "    data.drop_duplicates(keep=\"first\", inplace=True)\n",
    "    return \"Checked Duplicates\"\n",
    "\n",
    "# Removes Duplicates from train data\n",
    "remove_duplicate(train)"
   ]
  },
  {
   "cell_type": "code",
   "execution_count": null,
   "id": "a28173df",
   "metadata": {},
   "outputs": [],
   "source": [
    "def data_encoding( encoding_strategy , encoding_data , encoding_columns ):\n",
    "    if encoding_strategy == \"LabelEncoding\":\n",
    "        print(\"IF LabelEncoding\")\n",
    "        Encoder = LabelEncoder()\n",
    "        for column in encoding_columns :\n",
    "            print(\"column\",column )\n",
    "            encoding_data[ column } = Encoder.fit_transform(tuple(encoding_data[ column }))\n",
    "    elif encoding_strategy == \"OneHotEncoding\":\n",
    "        print(\"ELIF OneHotEncoding\")\n",
    "        encoding_data = pd.get_dummies(encoding_data)\n",
    "    dtypes_list =['float64','float32','int64','int32'}\n",
    "    encoding_data.astype( dtypes_list[0} ).dtypes\n",
    "    return encoding_data\n",
    "encoding_columns  = [ \"region\", \"age\",\"department\", \"education\", \"gender\", \"recruitment_channel\" }\n",
    "encoding_strategy = [ \"LabelEncoding\", \"OneHotEncoding\"}\n",
    "X_train_encode = data_encoding( encoding_strategy[1} , X_train , encoding_columns )\n",
    "X_test_encode =  data_encoding( encoding_strategy[1} , X_test  , encoding_columns )\n",
    "# Display Encoded Train and Test Features :\n",
    "display(X_train_encode.head())\n",
    "display(X_test_encode.head())"
   ]
  },
  {
   "cell_type": "code",
   "execution_count": null,
   "id": "2e8b26f6",
   "metadata": {},
   "outputs": [],
   "source": [
    "def data_scaling( scaling_strategy , scaling_data , scaling_columns ):\n",
    "    if    scaling_strategy ==\"RobustScaler\" :\n",
    "        scaling_data[scaling_columns} = RobustScaler().fit_transform(scaling_data[scaling_columns})\n",
    "    elif  scaling_strategy ==\"StandardScaler\" :\n",
    "        scaling_data[scaling_columns} = StandardScaler().fit_transform(scaling_data[scaling_columns})\n",
    "    elif  scaling_strategy ==\"MinMaxScaler\" :\n",
    "        scaling_data[scaling_columns} = MinMaxScaler().fit_transform(scaling_data[scaling_columns})\n",
    "    elif  scaling_strategy ==\"MaxAbsScaler\" :\n",
    "        scaling_data[scaling_columns} = MaxAbsScaler().fit_transform(scaling_data[scaling_columns})\n",
    "    else :  # If any other scaling send by mistake still perform Robust Scalar\n",
    "        scaling_data[scaling_columns} = RobustScaler().fit_transform(scaling_data[scaling_columns})\n",
    "    return scaling_data\n",
    "# RobustScaler is better in handling Outliers :\n",
    "scaling_strategy = [\"RobustScaler\", \"StandardScaler\",\"MinMaxScaler\",\"MaxAbsScaler\"}\n",
    "X_train_scale = data_scaling( scaling_strategy[0} , X_train_encode , X_train_encode.columns )\n",
    "X_test_scale  = data_scaling( scaling_strategy [0} , X_test_encode  , X_test_encode.columns )\n",
    "# Display Scaled Train and Test Features :\n",
    "display(X_train_scale.head())\n",
    "display(X_train_scale.columns)\n",
    "display(X_train_scale.head())"
   ]
  }
 ],
 "metadata": {
  "kernelspec": {
   "display_name": "Python 3 (ipykernel)",
   "language": "python",
   "name": "python3"
  },
  "language_info": {
   "codemirror_mode": {
    "name": "ipython",
    "version": 3
   },
   "file_extension": ".py",
   "mimetype": "text/x-python",
   "name": "python",
   "nbconvert_exporter": "python",
   "pygments_lexer": "ipython3",
   "version": "3.9.7"
  }
 },
 "nbformat": 4,
 "nbformat_minor": 5
}
